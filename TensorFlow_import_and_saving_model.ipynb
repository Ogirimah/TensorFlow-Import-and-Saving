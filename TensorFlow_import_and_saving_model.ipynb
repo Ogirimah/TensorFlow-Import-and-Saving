{
  "nbformat": 4,
  "nbformat_minor": 0,
  "metadata": {
    "colab": {
      "name": "TensorFlow import and saving model.ipynb",
      "provenance": [],
      "collapsed_sections": [],
      "authorship_tag": "ABX9TyN40JcZ2JjsmchyuYM34ybL",
      "include_colab_link": true
    },
    "kernelspec": {
      "name": "python3",
      "display_name": "Python 3"
    },
    "language_info": {
      "name": "python"
    }
  },
  "cells": [
    {
      "cell_type": "markdown",
      "metadata": {
        "id": "view-in-github",
        "colab_type": "text"
      },
      "source": [
        "<a href=\"https://colab.research.google.com/github/Ogirimah/TensorFlow-Import-and-Saving/blob/main/TensorFlow_import_and_saving_model.ipynb\" target=\"_parent\"><img src=\"https://colab.research.google.com/assets/colab-badge.svg\" alt=\"Open In Colab\"/></a>"
      ]
    },
    {
      "cell_type": "code",
      "execution_count": null,
      "metadata": {
        "id": "7xZUTWP3x9eD"
      },
      "outputs": [],
      "source": [
        "import os\n",
        "import tensorflow as tf\n",
        " \n",
        "model = tf.keras.applications.mobilenet_v2.MobileNetV2(\n",
        "    input_shape=(224, 224, 3), alpha=1.0, weights='imagenet',\n",
        "    input_tensor=None, pooling=None, classes=1000,\n",
        "    classifier_activation='softmax'\n",
        ")"
      ]
    },
    {
      "cell_type": "markdown",
      "source": [
        "We first Import TensorFlow and then access the MobileNet v2 model. The model is obtained along with setting hyper-parameters such as the expected input shape, loading the default pre-trained weights for the model, and the classifier_activation function type. "
      ],
      "metadata": {
        "id": "BP8rsiFLDu1l"
      }
    },
    {
      "cell_type": "code",
      "source": [
        "from tensorflow.python.saved_model.save import save\n",
        " \n",
        "save_dir = os.path.join('/tmp/', 'mobilenetv2/saved_model.h5')\n",
        "model.save(save_dir)"
      ],
      "metadata": {
        "colab": {
          "base_uri": "https://localhost:8080/"
        },
        "id": "7RCYKwH4zI3A",
        "outputId": "c5c68576-ad2e-456e-f98e-2ba7a89ea000"
      },
      "execution_count": null,
      "outputs": [
        {
          "output_type": "stream",
          "name": "stdout",
          "text": [
            "WARNING:tensorflow:Compiled the loaded model, but the compiled metrics have yet to be built. `model.compile_metrics` will be empty until you train or evaluate the model.\n"
          ]
        }
      ]
    },
    {
      "cell_type": "markdown",
      "source": [
        "The model is saved as saved_model.h5, where the extension h5 is the keras model version.\n",
        "Note that .pb can be used, which is the TensorFlow model version, but keras model converts to layers TensorFlow.js model when the converter is used, while TensorFlow model converts to graph model, and we remember that it is more flexible to use layers model for transfer learning and graph model has a better execution speed. So the save option depends on each use case."
      ],
      "metadata": {
        "id": "BEWptAm60CgK"
      }
    },
    {
      "cell_type": "code",
      "source": [
        "!pip3 install tensorflowjs"
      ],
      "metadata": {
        "id": "ljIUTDz83B3M"
      },
      "execution_count": null,
      "outputs": []
    },
    {
      "cell_type": "markdown",
      "source": [
        "! starting the code, means that it will be executing a terminal command instead of python code"
      ],
      "metadata": {
        "id": "kdqaVVMP3Pei"
      }
    },
    {
      "cell_type": "code",
      "source": [
        "!cd /tmp/mobilenetv2/\n",
        "!tensorflowjs_converter --input_format=keras --output_format=tfjs_layers_model /tmp/mobilenetv2/saved_model.h5 /tmp/tfjs_mobilenetv2"
      ],
      "metadata": {
        "id": "bh2sQ10X3v8B"
      },
      "execution_count": null,
      "outputs": []
    },
    {
      "cell_type": "markdown",
      "source": [
        "The first line of code is a terminal command to change the directory to the ‘mobilenetv2’ folder created. The second line of code calls the ‘tensorflowjs_converter’. This takes the following parameters:\n",
        "1. The first parameter is the input format of the file that you want to convert, which is Keras\n",
        "2. The second parameter is the output format to which you want to convert. In this case, you need the ‘tfjs_layers_model’ format to create a layers model suitable for transfer learning\n",
        "3. Next is the location of the input file. In this case, it is the ‘/tmp/mobilenetv2/saved_model.h5 ’ which is the location of the h5 file you just saved to disk\n",
        "4. Finally, you specify the output folder to place the generated tensorflow.js model files. Here you ask to create a new folder in the system tmp folder called ‘tfjs_mobilenetv2’.\n",
        "\n",
        "Once the cell completes executing the code, navigate to the ‘tmp’ folder. You should see a new tfjs_mobilenetv2 folder with the model’s ‘json’ and ‘bin’ files inside.\n",
        "\n",
        "To download each of the resulting files to your own hard drive, hover over the file, select the three dots that appear to the right of the file name, select download, and save the resulting file to your hard drive\n",
        "\n",
        "If you end up converting larger models in the future with many binary output files to download, you may want to zip all the files together into one file to save time when downloading. The code below does just that."
      ],
      "metadata": {
        "id": "YFsJ-fwP4O9v"
      }
    },
    {
      "cell_type": "code",
      "source": [
        "!zip -r /tmp/tfjs_mobilenetv2/modeldata.zip /tmp/tfjs_mobilenetv2/"
      ],
      "metadata": {
        "id": "uIARCJvi9xD2"
      },
      "execution_count": null,
      "outputs": []
    },
    {
      "cell_type": "markdown",
      "source": [
        "You can then see the new modeldata.zip file has been created on the left which you can download in 1 click and then unzip on your own computer to view the contents in a much faster manner than downloading all the files individually, which is a lot more clicking."
      ],
      "metadata": {
        "id": "m4Ey1Fek-bW2"
      }
    }
  ]
}